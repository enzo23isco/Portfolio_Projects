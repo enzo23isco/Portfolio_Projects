{
 "cells": [
  {
   "cell_type": "code",
   "execution_count": 1,
   "id": "683a5183-fdc6-4c47-b667-2ca6f8c283ca",
   "metadata": {},
   "outputs": [
    {
     "data": {
      "text/plain": [
       "[<matplotlib.lines.Line2D at 0x7fee4240b100>]"
      ]
     },
     "execution_count": 1,
     "metadata": {},
     "output_type": "execute_result"
    },
    {
     "data": {
      "image/png": "[encoded data removed]",
      "text/plain": [
       "<Figure size 720x360 with 1 Axes>"
      ]
     },
     "metadata": {},
     "output_type": "display_data"
    }
   ],
   "source": [
    "#import packages\n",
    "import pandas as pd\n",
    "import matplotlib as mpl\n",
    "import matplotlib.pyplot as plt\n",
    "\n",
    "# import the dataset\n",
    "df = pd.read_csv(\"MadridvsBarcaxGDataset.csv\")\n",
    "\n",
    "#now that we have our dataframe set up, we are going to create some lists to plot the different xG values\n",
    "#4 lists - home and away xg and minutes\n",
    "#We start these with zero so our charts will start at 0\n",
    "a_xG = [0]\n",
    "h_xG= [0]\n",
    "a_min = [0]\n",
    "h_min = [0]\n",
    "\n",
    "#this finds our team names from the dataframe. This will only work as long as both teams took a shot\n",
    "hteam = df['team'].iloc[0]  # will get the first record (usually the home team)\n",
    "ateam = df['team'].iloc[-1]# will get the last record (the away team)\n",
    "\n",
    "'''\n",
    "# iterate to the loop to populate the lists a_xG and h_xG previously created\n",
    "# what the loop is doing here is checking if the record df[team][index] is equal to ateam(away), if true it will append the xG values into a_xG list\n",
    "'''\n",
    "\n",
    "for x in range(len(df['xG'])):\n",
    "    if df['team'][x]==ateam:\n",
    "        a_xG.append(df['xG'][x])\n",
    "        a_min.append(df['minute'][x])\n",
    "    if df['team'][x]==hteam:\n",
    "        h_xG.append(df['xG'][x])\n",
    "        h_min.append(df['minute'][x])\n",
    "        \n",
    "#this is the function we use to make our xG values be CUMULATIVE rather than single shot values\n",
    "#it goes through the list and adds the numbers together\n",
    "def nums_cumulative_sum(nums_list):\n",
    "    return [sum(nums_list[:i+1]) for i in range(len(nums_list))]        \n",
    "\n",
    "a_cumulative = nums_cumulative_sum(a_xG)\n",
    "h_cumulative = nums_cumulative_sum(h_xG)\n",
    "\n",
    "#this is used to find the total xG. It just creates a new variable from the last item in the cumulative list\n",
    "alast = round(a_cumulative[-1],2)\n",
    "hlast = round(h_cumulative[-1],2)\n",
    "\n",
    "\n",
    "# the graph part\n",
    "\n",
    "fig, ax = plt.subplots(figsize = (10,5))\n",
    "fig.set_facecolor('#3d4849')\n",
    "ax.patch.set_facecolor('#3d4849')\n",
    "\n",
    "#set up our base layer\n",
    "mpl.rcParams['xtick.color'] = 'white'\n",
    "mpl.rcParams['ytick.color'] = 'white'\n",
    "\n",
    "ax.grid(ls='dotted',lw=.5,color='lightgrey',axis='y',zorder=1)\n",
    "spines = ['top','bottom','left','right']\n",
    "for x in spines:\n",
    "    if x in spines:\n",
    "        ax.spines[x].set_visible(False)\n",
    "        \n",
    "plt.xticks([0,15,30,45,60,75,90])\n",
    "plt.xlabel('Minute',fontname='Andale Mono',color='white',fontsize=16)\n",
    "plt.ylabel('xG',fontname='Andale Mono',color='white',fontsize=16)\n",
    "# plt.suptitle(\"tuvieja\", y=1.05, fontsize=18)\n",
    "plt.title(\"Real Madrid vs FC Barcelona xG Flow Chart\", color = 'white', fontsize=20)\n",
    "\n",
    "#plot the step graphs\n",
    "ax.step(x=a_min,y=a_cumulative,color='#900C3F',label=ateam,linewidth=5,where='post')\n",
    "ax.step(x=h_min,y=h_cumulative,color='#94C7BF',label=ateam,linewidth=5,where='post')\n",
    "\n",
    "# FOR HTML COLOR CODES : https://htmlcolorcodes.com/"
   ]
  },
  {
   "cell_type": "code",
   "execution_count": null,
   "id": "6206e515-dfab-4056-bd33-894e9c6ad635",
   "metadata": {},
   "outputs": [],
   "source": []
  }
 ],
 "metadata": {
  "kernelspec": {
   "display_name": "Python 3 (ipykernel)",
   "language": "python",
   "name": "python3"
  },
  "language_info": {
   "codemirror_mode": {
    "name": "ipython",
    "version": 3
   },
   "file_extension": ".py",
   "mimetype": "text/x-python",
   "name": "python",
   "nbconvert_exporter": "python",
   "pygments_lexer": "ipython3",
   "version": "3.9.7"
  }
 },
 "nbformat": 4,
 "nbformat_minor": 5
}
